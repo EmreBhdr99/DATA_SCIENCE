{
 "cells": [
  {
   "cell_type": "markdown",
   "metadata": {
    "id": "jkdLdV8Dsl88"
   },
   "source": [
    "___\n",
    "\n",
    "<p style=\"text-align: center;\"><img src=\"https://docs.google.com/uc?id=1lY0Uj5R04yMY3-ZppPWxqCr5pvBLYPnV\" class=\"img-fluid\" alt=\"CLRSWY\"></p>\n",
    "\n",
    "___"
   ]
  },
  {
   "cell_type": "markdown",
   "metadata": {
    "id": "CqyKl6OBsl9A"
   },
   "source": [
    "<h1 style=\"text-align: center;\">Deep Learning<br><br>Session - 7<br><br>Image Classification with CNN<br><br>Malaria Data<br><h1>"
   ]
  },
  {
   "cell_type": "markdown",
   "metadata": {
    "id": "NgJ-_SBHsl9B"
   },
   "source": [
    "\n",
    "# Dataset Info\n",
    "\n",
    "The dataset contains 2 folders - 'parasitized', 'uninfected'\n",
    "\n",
    "And a total of 27,558 images.\n",
    "\n",
    "This Dataset is taken from the official NIH Website: https://ceb.nlm.nih.gov/repositories/malaria-datasets/ "
   ]
  },
  {
   "cell_type": "markdown",
   "metadata": {
    "id": "CMrNns6kobX7"
   },
   "source": [
    "# Import Libraries and Export Images from Zip_File"
   ]
  },
  {
   "cell_type": "code",
   "execution_count": 1,
   "metadata": {
    "executionInfo": {
     "elapsed": 9,
     "status": "ok",
     "timestamp": 1665212072883,
     "user": {
      "displayName": "John Bay",
      "userId": "18207726099240828133"
     },
     "user_tz": -180
    },
    "id": "ULUCJSJzsl9C"
   },
   "outputs": [],
   "source": [
    "import os\n",
    "import numpy as np\n",
    "import pandas as pd\n",
    "import matplotlib.pyplot as plt\n",
    "import seaborn as sns\n",
    "from matplotlib.image import imread\n",
    "\n",
    "#import warnings\n",
    "#warnings.filterwarnings(\"ignore\")\n",
    "#warnings.warn(\"this will not show\")\n",
    "\n",
    "plt.rcParams[\"figure.figsize\"] = (10,6)\n",
    "\n",
    "sns.set_style(\"whitegrid\")\n",
    "pd.set_option('display.float_format', lambda x: '%.3f' % x)\n",
    "\n",
    "# Set it None to display all rows in the dataframe\n",
    "# pd.set_option('display.max_rows', None)\n",
    "\n",
    "# Set it to None to display all columns in the dataframe\n",
    "pd.set_option('display.max_columns', None)"
   ]
  },
  {
   "cell_type": "code",
   "execution_count": 2,
   "metadata": {
    "colab": {
     "base_uri": "https://localhost:8080/"
    },
    "executionInfo": {
     "elapsed": 3008,
     "status": "ok",
     "timestamp": 1665212075885,
     "user": {
      "displayName": "John Bay",
      "userId": "18207726099240828133"
     },
     "user_tz": -180
    },
    "id": "eBfqbn-TgoA4",
    "outputId": "1d98e617-bdd1-4427-9b6d-b714020a933d"
   },
   "outputs": [
    {
     "data": {
      "text/plain": [
       "[PhysicalDevice(name='/physical_device:GPU:0', device_type='GPU')]"
      ]
     },
     "execution_count": 2,
     "metadata": {},
     "output_type": "execute_result"
    }
   ],
   "source": [
    "import tensorflow as tf\n",
    "\n",
    "tf.config.list_physical_devices(\"GPU\")"
   ]
  },
  {
   "cell_type": "code",
   "execution_count": 3,
   "metadata": {
    "colab": {
     "base_uri": "https://localhost:8080/"
    },
    "executionInfo": {
     "elapsed": 30128,
     "status": "ok",
     "timestamp": 1665212106003,
     "user": {
      "displayName": "John Bay",
      "userId": "18207726099240828133"
     },
     "user_tz": -180
    },
    "id": "GnnB7Iigsl9E",
    "outputId": "049195b6-b37a-4ebe-c519-ae750197d1c2"
   },
   "outputs": [
    {
     "name": "stdout",
     "output_type": "stream",
     "text": [
      "Mounted at /content/drive\n"
     ]
    }
   ],
   "source": [
    "from google.colab import drive\n",
    "drive.mount('/content/drive')"
   ]
  },
  {
   "cell_type": "code",
   "execution_count": null,
   "metadata": {
    "id": "HKxrKtV5H77z"
   },
   "outputs": [],
   "source": [
    "import zipfile\n",
    "\n",
    "# Unzip the file\n",
    "zip_ref = zipfile.ZipFile(\"/content/drive/MyDrive/Colab Notebooks/cell_images.zip\", \"r\")\n",
    "zip_ref.extractall()\n",
    "zip_ref.close()"
   ]
  },
  {
   "cell_type": "markdown",
   "metadata": {
    "id": "YTyh7iXXsl9E"
   },
   "source": [
    "# Recognizing and Understanding Data"
   ]
  },
  {
   "cell_type": "code",
   "execution_count": null,
   "metadata": {
    "id": "BxDyRgOYdiDB"
   },
   "outputs": [],
   "source": [
    "my_data_dir = \"cell_images\""
   ]
  },
  {
   "cell_type": "code",
   "execution_count": null,
   "metadata": {
    "id": "AQVM6TYWsl9G"
   },
   "outputs": [],
   "source": [
    "# CONFIRM THAT THIS REPORTS BACK 'test', and 'train'\n",
    "os.listdir(my_data_dir) "
   ]
  },
  {
   "cell_type": "code",
   "execution_count": null,
   "metadata": {
    "id": "Chik3r8Ysl9H"
   },
   "outputs": [],
   "source": [
    "test_path = my_data_dir + '/test/'\n",
    "train_path = my_data_dir + '/train/'"
   ]
  },
  {
   "cell_type": "code",
   "execution_count": null,
   "metadata": {
    "id": "hO_ct-D3sl9H"
   },
   "outputs": [],
   "source": [
    "os.listdir(test_path)"
   ]
  },
  {
   "cell_type": "code",
   "execution_count": null,
   "metadata": {
    "id": "QN6kB1Ezsl9I"
   },
   "outputs": [],
   "source": [
    "os.listdir(train_path)"
   ]
  },
  {
   "cell_type": "code",
   "execution_count": null,
   "metadata": {
    "id": "eC4GUi8Jp8Rq"
   },
   "outputs": [],
   "source": [
    "classes = os.listdir(train_path)\n",
    "classes"
   ]
  },
  {
   "cell_type": "code",
   "execution_count": null,
   "metadata": {
    "id": "AYrKX5pqe8Ky"
   },
   "outputs": [],
   "source": [
    "# Alternative method\n",
    "import pathlib\n",
    "\n",
    "data_dir = pathlib.Path(train_path) # turn our training path into a Python path\n",
    "class_names = np.array(sorted([item.name for item in data_dir.glob('*')])) # created a list of class_names from the subdirectories\n",
    "print(class_names)"
   ]
  },
  {
   "cell_type": "code",
   "execution_count": null,
   "metadata": {
    "id": "17L-4uqGptMS"
   },
   "outputs": [],
   "source": [
    "class_names"
   ]
  },
  {
   "cell_type": "markdown",
   "metadata": {
    "id": "mFVLtsmLsl9N"
   },
   "source": [
    "**Let's check how many images there are.**"
   ]
  },
  {
   "cell_type": "code",
   "execution_count": null,
   "metadata": {
    "id": "uYCWoVG1qPNo"
   },
   "outputs": [],
   "source": [
    "os.listdir(train_path+'parasitized')"
   ]
  },
  {
   "cell_type": "code",
   "execution_count": null,
   "metadata": {
    "id": "U3zWAaJRsl9N"
   },
   "outputs": [],
   "source": [
    "len(os.listdir(train_path+'parasitized')), len(os.listdir(train_path+'uninfected'))"
   ]
  },
  {
   "cell_type": "code",
   "execution_count": null,
   "metadata": {
    "id": "pQluIckosl9O"
   },
   "outputs": [],
   "source": [
    "len(os.listdir(test_path+'parasitized')), len(os.listdir(test_path+'uninfected'))"
   ]
  },
  {
   "cell_type": "code",
   "execution_count": null,
   "metadata": {
    "id": "nz_3zdr4avaP"
   },
   "outputs": [],
   "source": [
    "# Walk through cell_images directory and list number of files\n",
    "for dirpath, dirnames, filenames in os.walk(my_data_dir):\n",
    "  print(f\"There are {len(dirnames)} directories and {len(filenames)} images in '{dirpath}'.\")"
   ]
  },
  {
   "cell_type": "markdown",
   "metadata": {
    "id": "2docX2FutRHv"
   },
   "source": [
    "**Let's take an example images from both train-parasitized and train-uninfected folders to observe process** "
   ]
  },
  {
   "cell_type": "code",
   "execution_count": null,
   "metadata": {
    "id": "wUZcZtQWsl9I"
   },
   "outputs": [],
   "source": [
    "os.listdir(train_path+'parasitized')[:10]"
   ]
  },
  {
   "cell_type": "code",
   "execution_count": null,
   "metadata": {
    "id": "90IdG6knsl9J"
   },
   "outputs": [],
   "source": [
    "os.listdir(train_path+'parasitized')[5]"
   ]
  },
  {
   "cell_type": "code",
   "execution_count": null,
   "metadata": {
    "id": "rKvIiLAssl9J"
   },
   "outputs": [],
   "source": [
    "para_cell_path = train_path+'parasitized'+'/C68P29N_ThinF_IMG_20150819_134504_cell_120.png'"
   ]
  },
  {
   "cell_type": "code",
   "execution_count": null,
   "metadata": {
    "id": "L5V2hllmsl9J"
   },
   "outputs": [],
   "source": [
    "para_cell_path"
   ]
  },
  {
   "cell_type": "code",
   "execution_count": null,
   "metadata": {
    "id": "bgtb1aRfsl9K"
   },
   "outputs": [],
   "source": [
    "imread(para_cell_path)"
   ]
  },
  {
   "cell_type": "code",
   "execution_count": null,
   "metadata": {
    "id": "GsObRYqksl9K"
   },
   "outputs": [],
   "source": [
    "para_cell= imread(para_cell_path)"
   ]
  },
  {
   "cell_type": "code",
   "execution_count": null,
   "metadata": {
    "id": "7E8cwW2osl9K"
   },
   "outputs": [],
   "source": [
    "plt.imshow(para_cell);"
   ]
  },
  {
   "cell_type": "code",
   "execution_count": null,
   "metadata": {
    "id": "XDpeTqBdsl9L"
   },
   "outputs": [],
   "source": [
    "para_cell.shape"
   ]
  },
  {
   "cell_type": "code",
   "execution_count": null,
   "metadata": {
    "id": "pj1xYpfksl9M"
   },
   "outputs": [],
   "source": [
    "os.listdir(train_path+'uninfected')[:10]"
   ]
  },
  {
   "cell_type": "code",
   "execution_count": null,
   "metadata": {
    "id": "scyqIWQmsl9M"
   },
   "outputs": [],
   "source": [
    "uninfected_cell_path = train_path+'uninfected/'+os.listdir(train_path+'uninfected')[5]"
   ]
  },
  {
   "cell_type": "code",
   "execution_count": null,
   "metadata": {
    "id": "8sac1keAsl9M"
   },
   "outputs": [],
   "source": [
    "imread(uninfected_cell_path)"
   ]
  },
  {
   "cell_type": "code",
   "execution_count": null,
   "metadata": {
    "id": "GYQ6VT4Esl9N"
   },
   "outputs": [],
   "source": [
    "#plt.imshow(imread(uninfected_cell_path));\n",
    "uninfected_cell = imread(uninfected_cell_path)\n",
    "plt.imshow(uninfected_cell);"
   ]
  },
  {
   "cell_type": "code",
   "execution_count": null,
   "metadata": {
    "id": "GREBe_GIrZtp"
   },
   "outputs": [],
   "source": [
    "uninfected_cell.shape"
   ]
  },
  {
   "cell_type": "code",
   "execution_count": null,
   "metadata": {
    "id": "E0jEJVskgsKG"
   },
   "outputs": [],
   "source": [
    "# View a random image\n",
    "import random\n",
    "\n",
    "def view_random_image(target_dir, target_class):\n",
    "  # Setup target directory (we'll view images from here)\n",
    "  target_folder = target_dir+target_class\n",
    "\n",
    "  # Get a random image path\n",
    "  random_image = random.sample(os.listdir(target_folder), 1)\n",
    "\n",
    "  # Read in the image and plot it using matplotlib\n",
    "  img = imread(target_folder + \"/\" + random_image[0])\n",
    "  plt.imshow(img)\n",
    "  plt.title(target_class)\n",
    "  plt.axis(\"off\");\n",
    "\n",
    "  print(f\"Image shape: {img.shape}\") # show the shape of the image\n",
    "\n",
    "  return img"
   ]
  },
  {
   "cell_type": "code",
   "execution_count": null,
   "metadata": {
    "id": "khW2E0HmgsUe"
   },
   "outputs": [],
   "source": [
    "# View a random image from the training dataset\n",
    "img = view_random_image(target_dir=train_path,\n",
    "                        target_class=\"parasitized\")"
   ]
  },
  {
   "cell_type": "code",
   "execution_count": null,
   "metadata": {
    "id": "BcEpw1GPgseo"
   },
   "outputs": [],
   "source": [
    "# View a random image from the training dataset\n",
    "img = view_random_image(target_dir=train_path,\n",
    "                        target_class=\"uninfected\")"
   ]
  },
  {
   "cell_type": "code",
   "execution_count": null,
   "metadata": {
    "id": "KwuIL3FdAXlZ"
   },
   "outputs": [],
   "source": [
    "# View a random image from the training dataset\n",
    "import random\n",
    "img = view_random_image(target_dir=train_path,\n",
    "                        target_class=random.choice(class_names)) # get a random class name"
   ]
  },
  {
   "cell_type": "markdown",
   "metadata": {
    "id": "7qmejxHxsl9O"
   },
   "source": [
    "# Data Preprocessing"
   ]
  },
  {
   "cell_type": "markdown",
   "metadata": {
    "id": "LH--CKJ0sl9O"
   },
   "source": [
    "## Defining Input Shape"
   ]
  },
  {
   "cell_type": "markdown",
   "metadata": {
    "id": "FXz_fh0bsl9O"
   },
   "source": [
    "**Let's decide on the final dimension of these images.**"
   ]
  },
  {
   "cell_type": "code",
   "execution_count": null,
   "metadata": {
    "id": "yedwAw8Jsl9P"
   },
   "outputs": [],
   "source": [
    "uninfected_cell.shape"
   ]
  },
  {
   "cell_type": "code",
   "execution_count": null,
   "metadata": {
    "id": "zpfsabyPsl9P"
   },
   "outputs": [],
   "source": [
    "para_cell.shape"
   ]
  },
  {
   "cell_type": "markdown",
   "metadata": {
    "cellView": "code",
    "executionInfo": {
     "elapsed": 16,
     "status": "ok",
     "timestamp": 1649265829189,
     "user": {
      "displayName": "Steve Wallace",
      "userId": "06741533186265949524"
     },
     "user_tz": -180
    },
    "id": "c1MICswflLpO",
    "outputId": "976efc35-690f-4c05-a758-e70d72df7d9e"
   },
   "source": [
    "x = []\n",
    "y = []\n",
    "\n",
    "for image in os.listdir(train_path+'uninfected'):\n",
    "    img = imread(train_path+'uninfected/'+image)\n",
    "    d1,d2,_ = img.shape\n",
    "    x.append(d1)\n",
    "    y.append(d2)"
   ]
  },
  {
   "cell_type": "code",
   "execution_count": null,
   "metadata": {
    "id": "Cnndjp3hsl9Q"
   },
   "outputs": [],
   "source": [
    "x = [imread(train_path+'uninfected/'+image).shape[0] for image in os.listdir(train_path+'uninfected')] \n",
    "y = [imread(train_path+'uninfected/'+image).shape[1] for image in os.listdir(train_path+'uninfected')] "
   ]
  },
  {
   "cell_type": "code",
   "execution_count": null,
   "metadata": {
    "id": "I8coq5Crsl9R"
   },
   "outputs": [],
   "source": [
    "x[:5]"
   ]
  },
  {
   "cell_type": "code",
   "execution_count": null,
   "metadata": {
    "id": "RZ1WZ16Osl9R"
   },
   "outputs": [],
   "source": [
    "sns.scatterplot(x,y);"
   ]
  },
  {
   "cell_type": "code",
   "execution_count": null,
   "metadata": {
    "id": "CE2dIZyesl9R"
   },
   "outputs": [],
   "source": [
    "np.mean(x), np.median(x)"
   ]
  },
  {
   "cell_type": "code",
   "execution_count": null,
   "metadata": {
    "id": "j-hPSXm7sl9R"
   },
   "outputs": [],
   "source": [
    "np.mean(y), np.median(y)"
   ]
  },
  {
   "cell_type": "code",
   "execution_count": null,
   "metadata": {
    "id": "XZipjtXssl9S"
   },
   "outputs": [],
   "source": [
    "image_shape = (130,130,3)"
   ]
  },
  {
   "cell_type": "markdown",
   "metadata": {
    "id": "nzfQWmOxsl9S"
   },
   "source": [
    "## Scaling"
   ]
  },
  {
   "cell_type": "markdown",
   "metadata": {
    "id": "mKfeQeWbsl9S"
   },
   "source": [
    "**Let's check the images if they are needed to be scaled or not**"
   ]
  },
  {
   "cell_type": "code",
   "execution_count": null,
   "metadata": {
    "id": "Wh48Bd-1sl9S"
   },
   "outputs": [],
   "source": [
    "uninfected_cell.max()"
   ]
  },
  {
   "cell_type": "code",
   "execution_count": null,
   "metadata": {
    "id": "X4lGP4Essl9S"
   },
   "outputs": [],
   "source": [
    "para_cell.max()"
   ]
  },
  {
   "cell_type": "markdown",
   "metadata": {
    "id": "o-rpBt-ysl9S"
   },
   "source": [
    "As we see above, all images have been already scaled"
   ]
  },
  {
   "cell_type": "markdown",
   "metadata": {
    "id": "wwoyEQxasl9T"
   },
   "source": [
    "## Image Data Generator"
   ]
  },
  {
   "cell_type": "markdown",
   "metadata": {
    "id": "rMtI4ruOtZBS"
   },
   "source": [
    "**Image Manipulation**\n",
    "\n",
    "We can use the ImageDataGenerator to manipulate the images with rotation, resizing, and scaling so the model becomes more robust to different images that our data set doesn't have. ImageDataGenerator does the followings.\n",
    "\n",
    "* Accepts a batch of images used for training.\n",
    "* Applies a series of random transformations to each image in the batch.\n",
    "* Replaces the original batch with randomly transformed batch.\n",
    "* Training the CNN on this randomly transformed batch.\n",
    "\n",
    "The goal of applying data augmentation is to have a more generalized model.\n",
    "\n",
    "Data augmentation is a way to try and prevent a model overfitting. If your model is overfiting (e.g. the validation loss keeps increasing), you may want to try using data augmentation."
   ]
  },
  {
   "cell_type": "code",
   "execution_count": null,
   "metadata": {
    "id": "PvfAR41Isl9T"
   },
   "outputs": [],
   "source": [
    "from tensorflow.keras.preprocessing.image import ImageDataGenerator"
   ]
  },
  {
   "cell_type": "code",
   "execution_count": null,
   "metadata": {
    "id": "-R0eYE5esl9T"
   },
   "outputs": [],
   "source": [
    "# help(ImageDataGenerator)"
   ]
  },
  {
   "cell_type": "code",
   "execution_count": null,
   "metadata": {
    "id": "CG7aykrysl9T"
   },
   "outputs": [],
   "source": [
    "image_gen = ImageDataGenerator(rotation_range=15, \n",
    "                               width_shift_range=0.10, \n",
    "                               height_shift_range=0.10, \n",
    "                               #rescale=1/255, \n",
    "                               shear_range=0.1, \n",
    "                               zoom_range=0.1, \n",
    "                               horizontal_flip=True, \n",
    "                               fill_mode='nearest')"
   ]
  },
  {
   "cell_type": "code",
   "execution_count": null,
   "metadata": {
    "id": "hYjJqytGsl9T"
   },
   "outputs": [],
   "source": [
    "plt.imshow(para_cell);"
   ]
  },
  {
   "cell_type": "code",
   "execution_count": null,
   "metadata": {
    "id": "EkKJrYeFsl9T"
   },
   "outputs": [],
   "source": [
    "plt.imshow(image_gen.random_transform(para_cell));"
   ]
  },
  {
   "cell_type": "markdown",
   "metadata": {
    "id": "NXTR3CIv0qm1"
   },
   "source": [
    "### Taking the path to a directory & Generating batches of augmented data\n",
    "\n",
    "flow_from_directory function works with images organized in sub-directories. Your directories should include only one class of images, so one folder per class of images."
   ]
  },
  {
   "cell_type": "code",
   "execution_count": null,
   "metadata": {
    "id": "7_KXVvrtsl9U"
   },
   "outputs": [],
   "source": [
    "#help(image_gen.flow_from_directory)\n",
    "#Takes the path to a directory & generates batches of augmented data."
   ]
  },
  {
   "cell_type": "code",
   "execution_count": null,
   "metadata": {
    "id": "gg7R9FNEsl9U"
   },
   "outputs": [],
   "source": [
    "image_gen.flow_from_directory(train_path)"
   ]
  },
  {
   "cell_type": "code",
   "execution_count": null,
   "metadata": {
    "id": "lDqfD0mUsl9U"
   },
   "outputs": [],
   "source": [
    "image_gen.flow_from_directory(test_path)"
   ]
  },
  {
   "cell_type": "code",
   "execution_count": null,
   "metadata": {
    "id": "uh3j7j6_00ch"
   },
   "outputs": [],
   "source": [
    "batch_size = 32"
   ]
  },
  {
   "cell_type": "code",
   "execution_count": null,
   "metadata": {
    "id": "c8ELVwKrM0jy"
   },
   "outputs": [],
   "source": [
    "image_shape"
   ]
  },
  {
   "cell_type": "code",
   "execution_count": null,
   "metadata": {
    "id": "gV4T5jcwsl9U"
   },
   "outputs": [],
   "source": [
    "train_image_gen = image_gen.flow_from_directory(directory=train_path,\n",
    "                                                target_size=image_shape[:2],\n",
    "                                                color_mode='rgb',\n",
    "                                                batch_size=batch_size,\n",
    "                                                class_mode='binary',\n",
    "                                                shuffle=True)"
   ]
  },
  {
   "cell_type": "code",
   "execution_count": null,
   "metadata": {
    "id": "KbbqrT2Asl9U"
   },
   "outputs": [],
   "source": [
    "test_image_gen = image_gen.flow_from_directory(directory=test_path,\n",
    "                                               target_size=image_shape[:2],\n",
    "                                               color_mode='rgb',\n",
    "                                               batch_size=batch_size,\n",
    "                                               class_mode='binary',\n",
    "                                               shuffle=False)"
   ]
  },
  {
   "cell_type": "code",
   "execution_count": null,
   "metadata": {
    "id": "efxzYhpisl9V"
   },
   "outputs": [],
   "source": [
    "train_image_gen.class_indices"
   ]
  },
  {
   "cell_type": "code",
   "execution_count": null,
   "metadata": {
    "id": "eE82-YIQUHtE"
   },
   "outputs": [],
   "source": [
    "test_image_gen.class_indices"
   ]
  },
  {
   "cell_type": "code",
   "execution_count": null,
   "metadata": {
    "id": "B5r91T4hsl9V"
   },
   "outputs": [],
   "source": [
    "# train_image_gen[0]"
   ]
  },
  {
   "cell_type": "code",
   "execution_count": null,
   "metadata": {
    "id": "g_tNsaxlsl9V"
   },
   "outputs": [],
   "source": [
    "train_image_gen[0][0].shape"
   ]
  },
  {
   "cell_type": "code",
   "execution_count": null,
   "metadata": {
    "id": "w08Vuz9y88iG"
   },
   "outputs": [],
   "source": [
    "train_image_gen[0][0][0].shape"
   ]
  },
  {
   "cell_type": "code",
   "execution_count": null,
   "metadata": {
    "id": "kBX9wMYasl9V"
   },
   "outputs": [],
   "source": [
    "len(train_image_gen), len(test_image_gen)"
   ]
  },
  {
   "cell_type": "code",
   "execution_count": null,
   "metadata": {
    "id": "aS4Gj8PGsl9V"
   },
   "outputs": [],
   "source": [
    "len(train_image_gen)*batch_size, len(test_image_gen)*batch_size "
   ]
  },
  {
   "cell_type": "code",
   "execution_count": null,
   "metadata": {
    "id": "ZkqN1GrZ8QSs"
   },
   "outputs": [],
   "source": [
    "# Get a sample of the training data batch \n",
    "images, labels = train_image_gen.next() # get the 'next' batch of images/labels\n",
    "len(images), len(labels)"
   ]
  },
  {
   "cell_type": "code",
   "execution_count": null,
   "metadata": {
    "id": "7UDSmH8F8aBH"
   },
   "outputs": [],
   "source": [
    "# Get a sample of the testing data batch \n",
    "images, labels = test_image_gen.next() # get the 'next' batch of images/labels\n",
    "len(images), len(labels)"
   ]
  },
  {
   "cell_type": "markdown",
   "metadata": {
    "id": "McnEpbpKsl9W"
   },
   "source": [
    "# Modelling-1"
   ]
  },
  {
   "cell_type": "code",
   "execution_count": null,
   "metadata": {
    "id": "_4wdkY_Csl9W"
   },
   "outputs": [],
   "source": [
    "from tensorflow.keras.models import Sequential\n",
    "from tensorflow.keras.layers import Activation, Dropout, Flatten, Dense, Conv2D, MaxPooling2D\n",
    "from tensorflow.keras.callbacks import EarlyStopping"
   ]
  },
  {
   "cell_type": "code",
   "execution_count": null,
   "metadata": {
    "id": "CQzvmjcEsl9W"
   },
   "outputs": [],
   "source": [
    "model1 = Sequential()\n",
    "\n",
    "model1.add(Conv2D(filters=32, kernel_size=(3,3), input_shape=image_shape, activation='relu'))\n",
    "model1.add(MaxPooling2D(pool_size=(2, 2)))\n",
    "\n",
    "model1.add(Conv2D(filters=64, kernel_size=(3,3), activation='relu'))\n",
    "model1.add(MaxPooling2D(pool_size=(2, 2)))\n",
    "\n",
    "model1.add(Conv2D(filters=64, kernel_size=(3,3), activation='relu'))\n",
    "model1.add(MaxPooling2D(pool_size=(2, 2)))\n",
    "\n",
    "\n",
    "model1.add(Flatten())\n",
    "\n",
    "\n",
    "model1.add(Dense(128))\n",
    "model1.add(Activation('relu'))\n",
    "\n",
    "model1.add(Dropout(0.5))\n",
    "\n",
    "model1.add(Dense(1))\n",
    "model1.add(Activation('sigmoid'))\n",
    "\n",
    "# optimizer = keras.optimizers.Adam(lr=0.01)\n",
    "model1.compile(loss='binary_crossentropy',\n",
    "              optimizer='adam',\n",
    "              metrics=['accuracy'])"
   ]
  },
  {
   "cell_type": "code",
   "execution_count": null,
   "metadata": {
    "id": "MHI3EEvXsl9W"
   },
   "outputs": [],
   "source": [
    "model1.summary()"
   ]
  },
  {
   "cell_type": "code",
   "execution_count": null,
   "metadata": {
    "id": "MQEe7W01sl9W"
   },
   "outputs": [],
   "source": [
    "early_stop = EarlyStopping(monitor='val_loss', patience=2, restore_best_weights = True)"
   ]
  },
  {
   "cell_type": "code",
   "execution_count": null,
   "metadata": {
    "id": "ptJFzuyvsl9X",
    "scrolled": true
   },
   "outputs": [],
   "source": [
    "model1.fit(train_image_gen,\n",
    "          epochs=10,\n",
    "          steps_per_epoch=len(train_image_gen),\n",
    "          validation_data=test_image_gen,\n",
    "          validation_steps=len(test_image_gen),\n",
    "          callbacks=[early_stop])"
   ]
  },
  {
   "cell_type": "code",
   "execution_count": null,
   "metadata": {
    "id": "yUXSEkDLsl9X"
   },
   "outputs": [],
   "source": [
    "model1.metrics_names"
   ]
  },
  {
   "cell_type": "code",
   "execution_count": null,
   "metadata": {
    "id": "AIykzWBQsl9X"
   },
   "outputs": [],
   "source": [
    "summary = pd.DataFrame(model1.history.history)\n",
    "summary.head()"
   ]
  },
  {
   "cell_type": "code",
   "execution_count": null,
   "metadata": {
    "id": "Dcy3L5Whsl9X"
   },
   "outputs": [],
   "source": [
    "summary[[\"loss\", \"val_loss\"]].plot();"
   ]
  },
  {
   "cell_type": "code",
   "execution_count": null,
   "metadata": {
    "id": "azs1F4o7sl9X"
   },
   "outputs": [],
   "source": [
    "summary[[\"accuracy\", \"val_accuracy\"]].plot();"
   ]
  },
  {
   "cell_type": "markdown",
   "metadata": {
    "id": "16_yfUk5sl9Y"
   },
   "source": [
    "# Evaluation on Test Data"
   ]
  },
  {
   "cell_type": "code",
   "execution_count": null,
   "metadata": {
    "id": "Xz95GVTDsl9Y"
   },
   "outputs": [],
   "source": [
    "from sklearn.metrics import classification_report, confusion_matrix"
   ]
  },
  {
   "cell_type": "code",
   "execution_count": null,
   "metadata": {
    "id": "mSBs8sNAsl9Y"
   },
   "outputs": [],
   "source": [
    "score = model1.evaluate(test_image_gen)\n",
    "print('Test loss:', score[0])\n",
    "print('Test accuracy:', score[1])"
   ]
  },
  {
   "cell_type": "code",
   "execution_count": null,
   "metadata": {
    "id": "ZtAfDORssl9Y"
   },
   "outputs": [],
   "source": [
    "pred_prob = model1.predict(test_image_gen)"
   ]
  },
  {
   "cell_type": "code",
   "execution_count": null,
   "metadata": {
    "id": "5PfBiFPlsl9Y"
   },
   "outputs": [],
   "source": [
    "pred_prob"
   ]
  },
  {
   "cell_type": "code",
   "execution_count": null,
   "metadata": {
    "id": "qwF2D32fsl9Z"
   },
   "outputs": [],
   "source": [
    "y_pred = pred_prob > 0.5"
   ]
  },
  {
   "cell_type": "code",
   "execution_count": null,
   "metadata": {
    "id": "EP0FHhTSsl9Z"
   },
   "outputs": [],
   "source": [
    "y_pred"
   ]
  },
  {
   "cell_type": "code",
   "execution_count": null,
   "metadata": {
    "id": "BfPUSYHxsl9a"
   },
   "outputs": [],
   "source": [
    "y_test = test_image_gen.classes\n",
    "y_test"
   ]
  },
  {
   "cell_type": "code",
   "execution_count": null,
   "metadata": {
    "id": "DWwI79g1sl9a"
   },
   "outputs": [],
   "source": [
    "print(classification_report(y_test, y_pred))"
   ]
  },
  {
   "cell_type": "code",
   "execution_count": null,
   "metadata": {
    "id": "KlUFu_UHsl9b",
    "scrolled": true
   },
   "outputs": [],
   "source": [
    "confusion_matrix(y_test, y_pred)"
   ]
  },
  {
   "cell_type": "markdown",
   "metadata": {
    "id": "lPIenRrysl9b"
   },
   "source": [
    "# Modelling-2"
   ]
  },
  {
   "cell_type": "code",
   "execution_count": null,
   "metadata": {
    "id": "6Dnzknlxsl9b"
   },
   "outputs": [],
   "source": [
    "model2 = Sequential()\n",
    "\n",
    "model2.add(Conv2D(filters=64, kernel_size=(3,3),input_shape=image_shape, padding='same', activation='relu',))\n",
    "model2.add(MaxPooling2D(pool_size=(2, 2)))\n",
    "\n",
    "model2.add(Conv2D(filters=128, kernel_size=(3,3), padding='same', activation='relu'))\n",
    "model2.add(Conv2D(filters=128, kernel_size=(3,3), padding='same', activation='relu'))\n",
    "model2.add(MaxPooling2D(pool_size=(2, 2)))\n",
    "\n",
    "model2.add(Conv2D(filters=256, kernel_size=(3,3), padding='same', activation='relu'))\n",
    "model2.add(Conv2D(filters=256, kernel_size=(3,3), padding='same', activation='relu'))\n",
    "model2.add(Conv2D(filters=256, kernel_size=(3,3), padding='same', activation='relu'))\n",
    "model2.add(MaxPooling2D(pool_size=(2, 2)))\n",
    "\n",
    "model2.add(Conv2D(filters=128, kernel_size=(3,3), padding='same', activation='relu'))\n",
    "model2.add(MaxPooling2D(pool_size=(2, 2)))\n",
    "\n",
    "model2.add(Conv2D(filters=64, kernel_size=(3,3), padding='same', activation='relu'))\n",
    "model2.add(MaxPooling2D(pool_size=(2, 2)))\n",
    "\n",
    "\n",
    "model2.add(Flatten())\n",
    "\n",
    "\n",
    "model2.add(Dense(128))\n",
    "model2.add(Activation('relu'))\n",
    "model2.add(Dropout(0.5))\n",
    "\n",
    "model2.add(Dense(1))\n",
    "model2.add(Activation('sigmoid'))\n",
    "\n",
    "model2.compile(loss='binary_crossentropy',\n",
    "              optimizer='adam',\n",
    "              metrics=['accuracy'])"
   ]
  },
  {
   "cell_type": "code",
   "execution_count": null,
   "metadata": {
    "id": "waeAEJGSsl9c"
   },
   "outputs": [],
   "source": [
    "model2.summary()"
   ]
  },
  {
   "cell_type": "code",
   "execution_count": null,
   "metadata": {
    "id": "tLSLjgiPsl9c"
   },
   "outputs": [],
   "source": [
    "early_stop = EarlyStopping(monitor='val_loss', patience=3, restore_best_weights = True)"
   ]
  },
  {
   "cell_type": "code",
   "execution_count": null,
   "metadata": {
    "id": "mVbSg-qLsl9c",
    "scrolled": true
   },
   "outputs": [],
   "source": [
    "model2.fit(train_image_gen,\n",
    "          epochs=8,\n",
    "          steps_per_epoch=len(train_image_gen),\n",
    "          validation_data=test_image_gen,\n",
    "          validation_steps=len(test_image_gen),\n",
    "          callbacks=[early_stop])"
   ]
  },
  {
   "cell_type": "code",
   "execution_count": null,
   "metadata": {
    "id": "CiIRPi0qsl9c"
   },
   "outputs": [],
   "source": [
    "model2.metrics_names"
   ]
  },
  {
   "cell_type": "code",
   "execution_count": null,
   "metadata": {
    "id": "28IfaCRpsl9d"
   },
   "outputs": [],
   "source": [
    "summary = pd.DataFrame(model2.history.history)\n",
    "summary.head()"
   ]
  },
  {
   "cell_type": "code",
   "execution_count": null,
   "metadata": {
    "id": "zyO6Cmv_sl9d"
   },
   "outputs": [],
   "source": [
    "summary[[\"loss\", \"val_loss\"]].plot();"
   ]
  },
  {
   "cell_type": "code",
   "execution_count": null,
   "metadata": {
    "id": "_D-FnA7Ksl9d"
   },
   "outputs": [],
   "source": [
    "summary[[\"accuracy\", \"val_accuracy\"]].plot();"
   ]
  },
  {
   "cell_type": "markdown",
   "metadata": {
    "id": "F2bTLAvQsl9d"
   },
   "source": [
    "# Evaluation on Test Data"
   ]
  },
  {
   "cell_type": "code",
   "execution_count": null,
   "metadata": {
    "id": "rKRt861Wsl9e"
   },
   "outputs": [],
   "source": [
    "score = model2.evaluate(test_image_gen)\n",
    "print('Test loss:', score[0])\n",
    "print('Test accuracy:', score[1])"
   ]
  },
  {
   "cell_type": "code",
   "execution_count": null,
   "metadata": {
    "id": "kP3oobifsl9e"
   },
   "outputs": [],
   "source": [
    "pred_prob = model2.predict(test_image_gen)"
   ]
  },
  {
   "cell_type": "code",
   "execution_count": null,
   "metadata": {
    "id": "93Jub8WGsl9f"
   },
   "outputs": [],
   "source": [
    "y_pred = pred_prob > 0.5"
   ]
  },
  {
   "cell_type": "code",
   "execution_count": null,
   "metadata": {
    "id": "sTWX-UTMsl9f"
   },
   "outputs": [],
   "source": [
    "print(classification_report(y_test, y_pred))"
   ]
  },
  {
   "cell_type": "markdown",
   "metadata": {
    "id": "hcH0w1R-VONi"
   },
   "source": [
    "                precision    recall  f1-score   support\n",
    "\n",
    "           0       0.96      0.93      0.95      1300\n",
    "           1       0.93      0.97      0.95      1300\n",
    "\n",
    "    accuracy                           0.95      2600\n",
    "   macro avg       0.95      0.95      0.95      2600\n",
    "weighted avg       0.95      0.95      0.95      2600"
   ]
  },
  {
   "cell_type": "code",
   "execution_count": null,
   "metadata": {
    "id": "oUdsEhpJsl9g"
   },
   "outputs": [],
   "source": [
    "confusion_matrix(y_test, y_pred)"
   ]
  },
  {
   "cell_type": "code",
   "execution_count": null,
   "metadata": {
    "id": "WR3JOvQhsl9g"
   },
   "outputs": [],
   "source": [
    "model1.save('malaria_model.h5')"
   ]
  },
  {
   "cell_type": "markdown",
   "metadata": {
    "id": "k17LqDfKsl9g"
   },
   "source": [
    "# Prediction"
   ]
  },
  {
   "cell_type": "code",
   "execution_count": null,
   "metadata": {
    "id": "HMDO0Dgv194o"
   },
   "outputs": [],
   "source": [
    "from tensorflow.keras.models import load_model\n",
    "from tensorflow.keras.preprocessing import image"
   ]
  },
  {
   "cell_type": "code",
   "execution_count": null,
   "metadata": {
    "id": "p4_7g3rEDiJ7"
   },
   "outputs": [],
   "source": [
    "model=load_model('malaria_model.h5')"
   ]
  },
  {
   "cell_type": "code",
   "execution_count": null,
   "metadata": {
    "id": "PLkgTS3cGHTv"
   },
   "outputs": [],
   "source": [
    "target_class=random.choice(class_names)\n",
    "target_class"
   ]
  },
  {
   "cell_type": "code",
   "execution_count": null,
   "metadata": {
    "id": "8paR170UBXzt"
   },
   "outputs": [],
   "source": [
    "random_image = random.sample(os.listdir(test_path + target_class), 1)\n",
    "random_image"
   ]
  },
  {
   "cell_type": "code",
   "execution_count": null,
   "metadata": {
    "id": "oeLS4RgHCCm6"
   },
   "outputs": [],
   "source": [
    "image_path = test_path + target_class + \"/\" + random_image[0]\n",
    "image_path"
   ]
  },
  {
   "cell_type": "code",
   "execution_count": null,
   "metadata": {
    "id": "RCxuuqwOsl9h"
   },
   "outputs": [],
   "source": [
    "my_image = image.load_img(image_path, target_size=image_shape)"
   ]
  },
  {
   "cell_type": "code",
   "execution_count": null,
   "metadata": {
    "id": "3GtFgC0gsl9h"
   },
   "outputs": [],
   "source": [
    "my_image"
   ]
  },
  {
   "cell_type": "code",
   "execution_count": null,
   "metadata": {
    "id": "-wfKWRy55R_1"
   },
   "outputs": [],
   "source": [
    "type(my_image)"
   ]
  },
  {
   "cell_type": "code",
   "execution_count": null,
   "metadata": {
    "id": "Q9J8ngv-TVIV"
   },
   "outputs": [],
   "source": [
    "#my_image = np.array(my_image)\n",
    "my_image = image.img_to_array(my_image)"
   ]
  },
  {
   "cell_type": "code",
   "execution_count": null,
   "metadata": {
    "id": "IJfZ-ILKsl9i"
   },
   "outputs": [],
   "source": [
    "my_image.shape"
   ]
  },
  {
   "cell_type": "code",
   "execution_count": null,
   "metadata": {
    "id": "n9-XbB8Rsl9i"
   },
   "outputs": [],
   "source": [
    "my_image = np.expand_dims(my_image, axis=0)"
   ]
  },
  {
   "cell_type": "code",
   "execution_count": null,
   "metadata": {
    "id": "ZuV5DH_fsl9i"
   },
   "outputs": [],
   "source": [
    "my_image.shape"
   ]
  },
  {
   "cell_type": "code",
   "execution_count": null,
   "metadata": {
    "id": "p5wQ4c6Zsl9i"
   },
   "outputs": [],
   "source": [
    "model.predict(my_image)"
   ]
  },
  {
   "cell_type": "code",
   "execution_count": null,
   "metadata": {
    "id": "ETuvfYOksl9i"
   },
   "outputs": [],
   "source": [
    "train_image_gen.class_indices"
   ]
  },
  {
   "cell_type": "code",
   "execution_count": null,
   "metadata": {
    "id": "v9okpvkVD_aM"
   },
   "outputs": [],
   "source": [
    "def pred_and_plot(model, img_size):\n",
    "  \"\"\"\n",
    "  Imports an image located at filename, makes a prediction on it with\n",
    "  a trained model and plots the image with the predicted class as the title.\n",
    "  \"\"\"\n",
    "  # Import the target image and preprocess it\n",
    "  target_class=random.choice(class_names)\n",
    "  random_image = random.sample(os.listdir(test_path + target_class), 1)\n",
    "  img_path = test_path + target_class + \"/\" + random_image[0]\n",
    "  img = image.load_img(img_path, target_size=img_size)\n",
    "  img = np.array(img)\n",
    "  \n",
    "  # Make a prediction\n",
    "  pred = model.predict(np.expand_dims(img, axis=0))\n",
    "  print(\"prediction_probability: \", pred.max())\n",
    "\n",
    "  # Get the predicted class\n",
    "  if len(pred[0]) > 1: # check for multi-class\n",
    "    pred_class = class_names[pred.argmax()] # if more than one output, take the max\n",
    "  else:\n",
    "    pred_class = class_names[int(tf.round(pred)[0][0])] # if only one output, round\n",
    "\n",
    "  # Plot the image and predicted class\n",
    "  plt.imshow(img)\n",
    "  plt.title(f\"Prediction: {pred_class}\")\n",
    "  plt.axis(False);"
   ]
  },
  {
   "cell_type": "code",
   "execution_count": null,
   "metadata": {
    "id": "In7S6mq_HLvu"
   },
   "outputs": [],
   "source": [
    "pred_and_plot(model, (130, 130))"
   ]
  },
  {
   "cell_type": "markdown",
   "metadata": {
    "id": "bQL6IJEAsl9j"
   },
   "source": [
    "___\n",
    "\n",
    "<p style=\"text-align: center;\"><img src=\"https://docs.google.com/uc?id=1lY0Uj5R04yMY3-ZppPWxqCr5pvBLYPnV\" class=\"img-fluid\" alt=\"CLRSWY\"></p>\n",
    "\n",
    "___"
   ]
  }
 ],
 "metadata": {
  "accelerator": "GPU",
  "colab": {
   "collapsed_sections": [],
   "provenance": []
  },
  "gpuClass": "standard",
  "kernelspec": {
   "display_name": "Python 3 (ipykernel)",
   "language": "python",
   "name": "python3"
  },
  "language_info": {
   "codemirror_mode": {
    "name": "ipython",
    "version": 3
   },
   "file_extension": ".py",
   "mimetype": "text/x-python",
   "name": "python",
   "nbconvert_exporter": "python",
   "pygments_lexer": "ipython3",
   "version": "3.8.5"
  },
  "toc": {
   "base_numbering": 1,
   "nav_menu": {},
   "number_sections": false,
   "sideBar": true,
   "skip_h1_title": false,
   "title_cell": "Table of Contents",
   "title_sidebar": "Contents",
   "toc_cell": false,
   "toc_position": {},
   "toc_section_display": true,
   "toc_window_display": true
  },
  "varInspector": {
   "cols": {
    "lenName": 16,
    "lenType": 16,
    "lenVar": 40
   },
   "kernels_config": {
    "python": {
     "delete_cmd_postfix": "",
     "delete_cmd_prefix": "del ",
     "library": "var_list.py",
     "varRefreshCmd": "print(var_dic_list())"
    },
    "r": {
     "delete_cmd_postfix": ") ",
     "delete_cmd_prefix": "rm(",
     "library": "var_list.r",
     "varRefreshCmd": "cat(var_dic_list()) "
    }
   },
   "types_to_exclude": [
    "module",
    "function",
    "builtin_function_or_method",
    "instance",
    "_Feature"
   ],
   "window_display": false
  }
 },
 "nbformat": 4,
 "nbformat_minor": 1
}
